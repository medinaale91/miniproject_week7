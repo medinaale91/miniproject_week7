{
 "cells": [
  {
   "cell_type": "code",
   "execution_count": 1,
   "metadata": {},
   "outputs": [],
   "source": [
    "import pandas as pd"
   ]
  },
  {
   "cell_type": "code",
   "execution_count": 2,
   "metadata": {},
   "outputs": [],
   "source": [
    "train = pd.read_csv('./src/train.csv', index_col=\"id\")"
   ]
  },
  {
   "cell_type": "code",
   "execution_count": 3,
   "metadata": {},
   "outputs": [
    {
     "data": {
      "text/plain": [
       "Index(['carat', 'cut', 'color', 'clarity', 'depth', 'table', 'x', 'y', 'z',\n",
       "       'price'],\n",
       "      dtype='object')"
      ]
     },
     "execution_count": 3,
     "metadata": {},
     "output_type": "execute_result"
    }
   ],
   "source": [
    "train.keys()"
   ]
  },
  {
   "cell_type": "code",
   "execution_count": 4,
   "metadata": {},
   "outputs": [
    {
     "data": {
      "text/html": [
       "<div>\n",
       "<style scoped>\n",
       "    .dataframe tbody tr th:only-of-type {\n",
       "        vertical-align: middle;\n",
       "    }\n",
       "\n",
       "    .dataframe tbody tr th {\n",
       "        vertical-align: top;\n",
       "    }\n",
       "\n",
       "    .dataframe thead th {\n",
       "        text-align: right;\n",
       "    }\n",
       "</style>\n",
       "<table border=\"1\" class=\"dataframe\">\n",
       "  <thead>\n",
       "    <tr style=\"text-align: right;\">\n",
       "      <th></th>\n",
       "      <th>carat</th>\n",
       "      <th>cut</th>\n",
       "      <th>color</th>\n",
       "      <th>clarity</th>\n",
       "      <th>depth</th>\n",
       "      <th>table</th>\n",
       "      <th>x</th>\n",
       "      <th>y</th>\n",
       "      <th>z</th>\n",
       "      <th>price</th>\n",
       "    </tr>\n",
       "    <tr>\n",
       "      <th>id</th>\n",
       "      <th></th>\n",
       "      <th></th>\n",
       "      <th></th>\n",
       "      <th></th>\n",
       "      <th></th>\n",
       "      <th></th>\n",
       "      <th></th>\n",
       "      <th></th>\n",
       "      <th></th>\n",
       "      <th></th>\n",
       "    </tr>\n",
       "  </thead>\n",
       "  <tbody>\n",
       "    <tr>\n",
       "      <th>0</th>\n",
       "      <td>0.50</td>\n",
       "      <td>Ideal</td>\n",
       "      <td>D</td>\n",
       "      <td>VS2</td>\n",
       "      <td>62.3</td>\n",
       "      <td>55.0</td>\n",
       "      <td>5.11</td>\n",
       "      <td>5.07</td>\n",
       "      <td>3.17</td>\n",
       "      <td>1845</td>\n",
       "    </tr>\n",
       "    <tr>\n",
       "      <th>1</th>\n",
       "      <td>1.54</td>\n",
       "      <td>Good</td>\n",
       "      <td>I</td>\n",
       "      <td>VS1</td>\n",
       "      <td>63.6</td>\n",
       "      <td>60.0</td>\n",
       "      <td>7.30</td>\n",
       "      <td>7.33</td>\n",
       "      <td>4.65</td>\n",
       "      <td>10164</td>\n",
       "    </tr>\n",
       "    <tr>\n",
       "      <th>2</th>\n",
       "      <td>1.32</td>\n",
       "      <td>Very Good</td>\n",
       "      <td>J</td>\n",
       "      <td>SI2</td>\n",
       "      <td>61.7</td>\n",
       "      <td>60.0</td>\n",
       "      <td>6.95</td>\n",
       "      <td>7.01</td>\n",
       "      <td>4.31</td>\n",
       "      <td>5513</td>\n",
       "    </tr>\n",
       "    <tr>\n",
       "      <th>3</th>\n",
       "      <td>1.20</td>\n",
       "      <td>Ideal</td>\n",
       "      <td>I</td>\n",
       "      <td>SI1</td>\n",
       "      <td>62.1</td>\n",
       "      <td>55.0</td>\n",
       "      <td>6.83</td>\n",
       "      <td>6.79</td>\n",
       "      <td>4.23</td>\n",
       "      <td>5174</td>\n",
       "    </tr>\n",
       "    <tr>\n",
       "      <th>4</th>\n",
       "      <td>1.73</td>\n",
       "      <td>Premium</td>\n",
       "      <td>I</td>\n",
       "      <td>SI1</td>\n",
       "      <td>61.2</td>\n",
       "      <td>60.0</td>\n",
       "      <td>7.67</td>\n",
       "      <td>7.65</td>\n",
       "      <td>4.69</td>\n",
       "      <td>10957</td>\n",
       "    </tr>\n",
       "  </tbody>\n",
       "</table>\n",
       "</div>"
      ],
      "text/plain": [
       "    carat        cut color clarity  depth  table     x     y     z  price\n",
       "id                                                                       \n",
       "0    0.50      Ideal     D     VS2   62.3   55.0  5.11  5.07  3.17   1845\n",
       "1    1.54       Good     I     VS1   63.6   60.0  7.30  7.33  4.65  10164\n",
       "2    1.32  Very Good     J     SI2   61.7   60.0  6.95  7.01  4.31   5513\n",
       "3    1.20      Ideal     I     SI1   62.1   55.0  6.83  6.79  4.23   5174\n",
       "4    1.73    Premium     I     SI1   61.2   60.0  7.67  7.65  4.69  10957"
      ]
     },
     "execution_count": 4,
     "metadata": {},
     "output_type": "execute_result"
    }
   ],
   "source": [
    "train.head()\n"
   ]
  },
  {
   "cell_type": "code",
   "execution_count": 5,
   "metadata": {},
   "outputs": [
    {
     "name": "stdout",
     "output_type": "stream",
     "text": [
      "<class 'pandas.core.frame.DataFrame'>\n",
      "Int64Index: 40455 entries, 0 to 40454\n",
      "Data columns (total 10 columns):\n",
      " #   Column   Non-Null Count  Dtype  \n",
      "---  ------   --------------  -----  \n",
      " 0   carat    40455 non-null  float64\n",
      " 1   cut      40455 non-null  object \n",
      " 2   color    40455 non-null  object \n",
      " 3   clarity  40455 non-null  object \n",
      " 4   depth    40455 non-null  float64\n",
      " 5   table    40455 non-null  float64\n",
      " 6   x        40455 non-null  float64\n",
      " 7   y        40455 non-null  float64\n",
      " 8   z        40455 non-null  float64\n",
      " 9   price    40455 non-null  int64  \n",
      "dtypes: float64(6), int64(1), object(3)\n",
      "memory usage: 3.4+ MB\n"
     ]
    }
   ],
   "source": [
    "# We get the info from the dataset.\n",
    "train.info()"
   ]
  },
  {
   "cell_type": "code",
   "execution_count": 6,
   "metadata": {
    "scrolled": true
   },
   "outputs": [
    {
     "data": {
      "text/plain": [
       "carat      0\n",
       "cut        0\n",
       "color      0\n",
       "clarity    0\n",
       "depth      0\n",
       "table      0\n",
       "x          0\n",
       "y          0\n",
       "z          0\n",
       "price      0\n",
       "dtype: int64"
      ]
     },
     "execution_count": 6,
     "metadata": {},
     "output_type": "execute_result"
    }
   ],
   "source": [
    "# We check if there are any null values.\n",
    "train.isnull().sum()"
   ]
  },
  {
   "cell_type": "markdown",
   "metadata": {},
   "source": [
    "# Handle Remaining Categorical Data & Convert to Ordinal"
   ]
  },
  {
   "cell_type": "markdown",
   "metadata": {},
   "source": [
    "Now we print the dtypes of the data again. There are 3 categorical columns within the dataset: CUT, COLOR and CLARITY."
   ]
  },
  {
   "cell_type": "code",
   "execution_count": 7,
   "metadata": {},
   "outputs": [
    {
     "name": "stdout",
     "output_type": "stream",
     "text": [
      "<class 'pandas.core.frame.DataFrame'>\n",
      "Int64Index: 40455 entries, 0 to 40454\n",
      "Data columns (total 10 columns):\n",
      " #   Column   Non-Null Count  Dtype  \n",
      "---  ------   --------------  -----  \n",
      " 0   carat    40455 non-null  float64\n",
      " 1   cut      40455 non-null  object \n",
      " 2   color    40455 non-null  object \n",
      " 3   clarity  40455 non-null  object \n",
      " 4   depth    40455 non-null  float64\n",
      " 5   table    40455 non-null  float64\n",
      " 6   x        40455 non-null  float64\n",
      " 7   y        40455 non-null  float64\n",
      " 8   z        40455 non-null  float64\n",
      " 9   price    40455 non-null  int64  \n",
      "dtypes: float64(6), int64(1), object(3)\n",
      "memory usage: 3.4+ MB\n"
     ]
    }
   ],
   "source": [
    "train.info()"
   ]
  },
  {
   "cell_type": "code",
   "execution_count": 8,
   "metadata": {},
   "outputs": [
    {
     "data": {
      "text/plain": [
       "Ideal        16152\n",
       "Premium      10321\n",
       "Very Good     9040\n",
       "Good          3729\n",
       "Fair          1213\n",
       "Name: cut, dtype: int64"
      ]
     },
     "execution_count": 8,
     "metadata": {},
     "output_type": "execute_result"
    }
   ],
   "source": [
    "# We will inspect the columns that are object type and see how they are distributed in case we need to clean them.\n",
    "\n",
    "train.cut.value_counts()"
   ]
  },
  {
   "cell_type": "code",
   "execution_count": 9,
   "metadata": {},
   "outputs": [],
   "source": [
    "# As the \"cut\" column values are a range from Fair (worst) to Ideal (best) that affect the \"price\" column, we convert them into Integers-numerical values (1 to 5)\n",
    "cut_dic = {'Fair':1, 'Good':2, 'Very Good':3, 'Premium':4,'Ideal':5}\n",
    "\n",
    "train.cut = train.cut.map(cut_dic) "
   ]
  },
  {
   "cell_type": "code",
   "execution_count": 11,
   "metadata": {},
   "outputs": [
    {
     "data": {
      "text/plain": [
       "G    8469\n",
       "E    7282\n",
       "F    7199\n",
       "H    6210\n",
       "D    5098\n",
       "I    4091\n",
       "J    2106\n",
       "Name: color, dtype: int64"
      ]
     },
     "execution_count": 11,
     "metadata": {},
     "output_type": "execute_result"
    }
   ],
   "source": [
    "# We will inspect the columns that are object type and see how they are distributed in case we need to clean them.\n",
    "\n",
    "train.color.value_counts()"
   ]
  },
  {
   "cell_type": "code",
   "execution_count": 12,
   "metadata": {},
   "outputs": [],
   "source": [
    "# As the \"color\" column values are also a range from J (worst) to D(best) that affect the \"price\" column, we convert them into Integers-numerical values (1 to 7)\n",
    "\n",
    "color_dic = {'J':1, 'I':2, 'H':3, 'G':4,'F':5, 'E':6, 'D':7}\n",
    "\n",
    "train.color = train.color.map(color_dic) "
   ]
  },
  {
   "cell_type": "code",
   "execution_count": 13,
   "metadata": {
    "scrolled": false
   },
   "outputs": [
    {
     "data": {
      "text/plain": [
       "SI1     9758\n",
       "VS2     9272\n",
       "SI2     6895\n",
       "VS1     6151\n",
       "VVS2    3799\n",
       "VVS1    2692\n",
       "IF      1321\n",
       "I1       567\n",
       "Name: clarity, dtype: int64"
      ]
     },
     "execution_count": 13,
     "metadata": {},
     "output_type": "execute_result"
    }
   ],
   "source": [
    "# We will inspect the columns that are object type and see how they are distributed in case we need to clean them.\n",
    "\n",
    "train.clarity.value_counts()"
   ]
  },
  {
   "cell_type": "code",
   "execution_count": 14,
   "metadata": {},
   "outputs": [],
   "source": [
    "# As the \"clarity\" column values are also a range from I1 (worst) to IF(best) that affect the \"price\" column, we convert them into Integers-numerical values (1 to 7)\n",
    "\n",
    "clarity_dic = {'I1':1, 'SI2':2, 'SI1':3, 'VS2':4,'VS1':5, 'VVS2':6, 'VVS1':7, 'IF':8}\n",
    "\n",
    "train.clarity = train.clarity.map(clarity_dic) "
   ]
  },
  {
   "cell_type": "code",
   "execution_count": 15,
   "metadata": {},
   "outputs": [
    {
     "data": {
      "text/html": [
       "<div>\n",
       "<style scoped>\n",
       "    .dataframe tbody tr th:only-of-type {\n",
       "        vertical-align: middle;\n",
       "    }\n",
       "\n",
       "    .dataframe tbody tr th {\n",
       "        vertical-align: top;\n",
       "    }\n",
       "\n",
       "    .dataframe thead th {\n",
       "        text-align: right;\n",
       "    }\n",
       "</style>\n",
       "<table border=\"1\" class=\"dataframe\">\n",
       "  <thead>\n",
       "    <tr style=\"text-align: right;\">\n",
       "      <th></th>\n",
       "      <th>carat</th>\n",
       "      <th>cut</th>\n",
       "      <th>color</th>\n",
       "      <th>clarity</th>\n",
       "      <th>depth</th>\n",
       "      <th>table</th>\n",
       "      <th>x</th>\n",
       "      <th>y</th>\n",
       "      <th>z</th>\n",
       "      <th>price</th>\n",
       "    </tr>\n",
       "  </thead>\n",
       "  <tbody>\n",
       "    <tr>\n",
       "      <th>carat</th>\n",
       "      <td>1.000000</td>\n",
       "      <td>-0.135198</td>\n",
       "      <td>-0.294212</td>\n",
       "      <td>-0.350039</td>\n",
       "      <td>0.026242</td>\n",
       "      <td>0.183268</td>\n",
       "      <td>0.975538</td>\n",
       "      <td>0.944843</td>\n",
       "      <td>0.967968</td>\n",
       "      <td>0.921776</td>\n",
       "    </tr>\n",
       "    <tr>\n",
       "      <th>cut</th>\n",
       "      <td>-0.135198</td>\n",
       "      <td>1.000000</td>\n",
       "      <td>0.025948</td>\n",
       "      <td>0.190523</td>\n",
       "      <td>-0.219215</td>\n",
       "      <td>-0.434853</td>\n",
       "      <td>-0.126384</td>\n",
       "      <td>-0.121461</td>\n",
       "      <td>-0.152219</td>\n",
       "      <td>-0.052246</td>\n",
       "    </tr>\n",
       "    <tr>\n",
       "      <th>color</th>\n",
       "      <td>-0.294212</td>\n",
       "      <td>0.025948</td>\n",
       "      <td>1.000000</td>\n",
       "      <td>-0.025203</td>\n",
       "      <td>-0.052073</td>\n",
       "      <td>-0.027061</td>\n",
       "      <td>-0.273145</td>\n",
       "      <td>-0.264365</td>\n",
       "      <td>-0.276464</td>\n",
       "      <td>-0.174569</td>\n",
       "    </tr>\n",
       "    <tr>\n",
       "      <th>clarity</th>\n",
       "      <td>-0.350039</td>\n",
       "      <td>0.190523</td>\n",
       "      <td>-0.025203</td>\n",
       "      <td>1.000000</td>\n",
       "      <td>-0.068171</td>\n",
       "      <td>-0.164441</td>\n",
       "      <td>-0.369195</td>\n",
       "      <td>-0.352933</td>\n",
       "      <td>-0.370560</td>\n",
       "      <td>-0.144279</td>\n",
       "    </tr>\n",
       "    <tr>\n",
       "      <th>depth</th>\n",
       "      <td>0.026242</td>\n",
       "      <td>-0.219215</td>\n",
       "      <td>-0.052073</td>\n",
       "      <td>-0.068171</td>\n",
       "      <td>1.000000</td>\n",
       "      <td>-0.296991</td>\n",
       "      <td>-0.026495</td>\n",
       "      <td>-0.030529</td>\n",
       "      <td>0.095624</td>\n",
       "      <td>-0.013715</td>\n",
       "    </tr>\n",
       "    <tr>\n",
       "      <th>table</th>\n",
       "      <td>0.183268</td>\n",
       "      <td>-0.434853</td>\n",
       "      <td>-0.027061</td>\n",
       "      <td>-0.164441</td>\n",
       "      <td>-0.296991</td>\n",
       "      <td>1.000000</td>\n",
       "      <td>0.197330</td>\n",
       "      <td>0.184213</td>\n",
       "      <td>0.156565</td>\n",
       "      <td>0.127199</td>\n",
       "    </tr>\n",
       "    <tr>\n",
       "      <th>x</th>\n",
       "      <td>0.975538</td>\n",
       "      <td>-0.126384</td>\n",
       "      <td>-0.273145</td>\n",
       "      <td>-0.369195</td>\n",
       "      <td>-0.026495</td>\n",
       "      <td>0.197330</td>\n",
       "      <td>1.000000</td>\n",
       "      <td>0.967690</td>\n",
       "      <td>0.985338</td>\n",
       "      <td>0.884862</td>\n",
       "    </tr>\n",
       "    <tr>\n",
       "      <th>y</th>\n",
       "      <td>0.944843</td>\n",
       "      <td>-0.121461</td>\n",
       "      <td>-0.264365</td>\n",
       "      <td>-0.352933</td>\n",
       "      <td>-0.030529</td>\n",
       "      <td>0.184213</td>\n",
       "      <td>0.967690</td>\n",
       "      <td>1.000000</td>\n",
       "      <td>0.960890</td>\n",
       "      <td>0.859062</td>\n",
       "    </tr>\n",
       "    <tr>\n",
       "      <th>z</th>\n",
       "      <td>0.967968</td>\n",
       "      <td>-0.152219</td>\n",
       "      <td>-0.276464</td>\n",
       "      <td>-0.370560</td>\n",
       "      <td>0.095624</td>\n",
       "      <td>0.156565</td>\n",
       "      <td>0.985338</td>\n",
       "      <td>0.960890</td>\n",
       "      <td>1.000000</td>\n",
       "      <td>0.873913</td>\n",
       "    </tr>\n",
       "    <tr>\n",
       "      <th>price</th>\n",
       "      <td>0.921776</td>\n",
       "      <td>-0.052246</td>\n",
       "      <td>-0.174569</td>\n",
       "      <td>-0.144279</td>\n",
       "      <td>-0.013715</td>\n",
       "      <td>0.127199</td>\n",
       "      <td>0.884862</td>\n",
       "      <td>0.859062</td>\n",
       "      <td>0.873913</td>\n",
       "      <td>1.000000</td>\n",
       "    </tr>\n",
       "  </tbody>\n",
       "</table>\n",
       "</div>"
      ],
      "text/plain": [
       "            carat       cut     color   clarity     depth     table         x  \\\n",
       "carat    1.000000 -0.135198 -0.294212 -0.350039  0.026242  0.183268  0.975538   \n",
       "cut     -0.135198  1.000000  0.025948  0.190523 -0.219215 -0.434853 -0.126384   \n",
       "color   -0.294212  0.025948  1.000000 -0.025203 -0.052073 -0.027061 -0.273145   \n",
       "clarity -0.350039  0.190523 -0.025203  1.000000 -0.068171 -0.164441 -0.369195   \n",
       "depth    0.026242 -0.219215 -0.052073 -0.068171  1.000000 -0.296991 -0.026495   \n",
       "table    0.183268 -0.434853 -0.027061 -0.164441 -0.296991  1.000000  0.197330   \n",
       "x        0.975538 -0.126384 -0.273145 -0.369195 -0.026495  0.197330  1.000000   \n",
       "y        0.944843 -0.121461 -0.264365 -0.352933 -0.030529  0.184213  0.967690   \n",
       "z        0.967968 -0.152219 -0.276464 -0.370560  0.095624  0.156565  0.985338   \n",
       "price    0.921776 -0.052246 -0.174569 -0.144279 -0.013715  0.127199  0.884862   \n",
       "\n",
       "                y         z     price  \n",
       "carat    0.944843  0.967968  0.921776  \n",
       "cut     -0.121461 -0.152219 -0.052246  \n",
       "color   -0.264365 -0.276464 -0.174569  \n",
       "clarity -0.352933 -0.370560 -0.144279  \n",
       "depth   -0.030529  0.095624 -0.013715  \n",
       "table    0.184213  0.156565  0.127199  \n",
       "x        0.967690  0.985338  0.884862  \n",
       "y        1.000000  0.960890  0.859062  \n",
       "z        0.960890  1.000000  0.873913  \n",
       "price    0.859062  0.873913  1.000000  "
      ]
     },
     "execution_count": 15,
     "metadata": {},
     "output_type": "execute_result"
    }
   ],
   "source": [
    "train.corr()\n"
   ]
  },
  {
   "cell_type": "code",
   "execution_count": 16,
   "metadata": {},
   "outputs": [],
   "source": [
    "import seaborn as sns\n",
    "import matplotlib.pyplot as plt"
   ]
  },
  {
   "cell_type": "code",
   "execution_count": 17,
   "metadata": {},
   "outputs": [
    {
     "data": {
      "image/png": "[encoded data removed]",
      "text/plain": [
       "<Figure size 432x288 with 2 Axes>"
      ]
     },
     "metadata": {
      "needs_background": "light"
     },
     "output_type": "display_data"
    }
   ],
   "source": [
    "\n",
    "sns.heatmap(train.corr());"
   ]
  },
  {
   "cell_type": "code",
   "execution_count": 18,
   "metadata": {},
   "outputs": [],
   "source": [
    "train.drop(columns=['y','z'], inplace=True)\n"
   ]
  },
  {
   "cell_type": "code",
   "execution_count": 19,
   "metadata": {},
   "outputs": [
    {
     "data": {
      "image/png": "[encoded data removed]",
      "text/plain": [
       "<Figure size 432x288 with 2 Axes>"
      ]
     },
     "metadata": {
      "needs_background": "light"
     },
     "output_type": "display_data"
    }
   ],
   "source": [
    "sns.heatmap(train.corr());"
   ]
  },
  {
   "cell_type": "code",
   "execution_count": 20,
   "metadata": {},
   "outputs": [
    {
     "name": "stdout",
     "output_type": "stream",
     "text": [
      "<class 'pandas.core.frame.DataFrame'>\n",
      "Int64Index: 40455 entries, 0 to 40454\n",
      "Data columns (total 8 columns):\n",
      " #   Column   Non-Null Count  Dtype  \n",
      "---  ------   --------------  -----  \n",
      " 0   carat    40455 non-null  float64\n",
      " 1   cut      40455 non-null  int64  \n",
      " 2   color    40455 non-null  int64  \n",
      " 3   clarity  40455 non-null  int64  \n",
      " 4   depth    40455 non-null  float64\n",
      " 5   table    40455 non-null  float64\n",
      " 6   x        40455 non-null  float64\n",
      " 7   price    40455 non-null  int64  \n",
      "dtypes: float64(4), int64(4)\n",
      "memory usage: 2.8 MB\n"
     ]
    }
   ],
   "source": [
    "# Como podemos ver a continuación, hemos convertido todas las columnas a floats o integers.\n",
    "# El siguiente paso será entrenar los modelos.\n",
    "train.info()"
   ]
  },
  {
   "cell_type": "code",
   "execution_count": 22,
   "metadata": {},
   "outputs": [],
   "source": [
    "train.to_csv('output/train_clean.csv')"
   ]
  },
  {
   "cell_type": "code",
   "execution_count": 23,
   "metadata": {},
   "outputs": [],
   "source": [
    "# We will also clean and prepare the \"predict\" dataset for training the models."
   ]
  },
  {
   "cell_type": "code",
   "execution_count": 24,
   "metadata": {},
   "outputs": [],
   "source": [
    "predict = pd.read_csv('./src/predict.csv', index_col=\"id\")"
   ]
  },
  {
   "cell_type": "code",
   "execution_count": 25,
   "metadata": {},
   "outputs": [
    {
     "data": {
      "text/html": [
       "<div>\n",
       "<style scoped>\n",
       "    .dataframe tbody tr th:only-of-type {\n",
       "        vertical-align: middle;\n",
       "    }\n",
       "\n",
       "    .dataframe tbody tr th {\n",
       "        vertical-align: top;\n",
       "    }\n",
       "\n",
       "    .dataframe thead th {\n",
       "        text-align: right;\n",
       "    }\n",
       "</style>\n",
       "<table border=\"1\" class=\"dataframe\">\n",
       "  <thead>\n",
       "    <tr style=\"text-align: right;\">\n",
       "      <th></th>\n",
       "      <th>carat</th>\n",
       "      <th>cut</th>\n",
       "      <th>color</th>\n",
       "      <th>clarity</th>\n",
       "      <th>depth</th>\n",
       "      <th>table</th>\n",
       "      <th>x</th>\n",
       "      <th>y</th>\n",
       "      <th>z</th>\n",
       "    </tr>\n",
       "    <tr>\n",
       "      <th>id</th>\n",
       "      <th></th>\n",
       "      <th></th>\n",
       "      <th></th>\n",
       "      <th></th>\n",
       "      <th></th>\n",
       "      <th></th>\n",
       "      <th></th>\n",
       "      <th></th>\n",
       "      <th></th>\n",
       "    </tr>\n",
       "  </thead>\n",
       "  <tbody>\n",
       "    <tr>\n",
       "      <th>0</th>\n",
       "      <td>0.45</td>\n",
       "      <td>Premium</td>\n",
       "      <td>E</td>\n",
       "      <td>SI1</td>\n",
       "      <td>62.8</td>\n",
       "      <td>58.0</td>\n",
       "      <td>4.88</td>\n",
       "      <td>4.84</td>\n",
       "      <td>3.05</td>\n",
       "    </tr>\n",
       "    <tr>\n",
       "      <th>1</th>\n",
       "      <td>1.23</td>\n",
       "      <td>Ideal</td>\n",
       "      <td>H</td>\n",
       "      <td>SI1</td>\n",
       "      <td>61.0</td>\n",
       "      <td>56.0</td>\n",
       "      <td>6.96</td>\n",
       "      <td>6.92</td>\n",
       "      <td>4.23</td>\n",
       "    </tr>\n",
       "    <tr>\n",
       "      <th>2</th>\n",
       "      <td>0.33</td>\n",
       "      <td>Ideal</td>\n",
       "      <td>I</td>\n",
       "      <td>IF</td>\n",
       "      <td>61.8</td>\n",
       "      <td>55.0</td>\n",
       "      <td>4.46</td>\n",
       "      <td>4.47</td>\n",
       "      <td>2.76</td>\n",
       "    </tr>\n",
       "    <tr>\n",
       "      <th>3</th>\n",
       "      <td>0.51</td>\n",
       "      <td>Premium</td>\n",
       "      <td>D</td>\n",
       "      <td>VS2</td>\n",
       "      <td>58.0</td>\n",
       "      <td>60.0</td>\n",
       "      <td>5.29</td>\n",
       "      <td>5.26</td>\n",
       "      <td>3.06</td>\n",
       "    </tr>\n",
       "    <tr>\n",
       "      <th>4</th>\n",
       "      <td>0.40</td>\n",
       "      <td>Premium</td>\n",
       "      <td>E</td>\n",
       "      <td>VS2</td>\n",
       "      <td>62.2</td>\n",
       "      <td>59.0</td>\n",
       "      <td>4.71</td>\n",
       "      <td>4.74</td>\n",
       "      <td>2.94</td>\n",
       "    </tr>\n",
       "  </tbody>\n",
       "</table>\n",
       "</div>"
      ],
      "text/plain": [
       "    carat      cut color clarity  depth  table     x     y     z\n",
       "id                                                              \n",
       "0    0.45  Premium     E     SI1   62.8   58.0  4.88  4.84  3.05\n",
       "1    1.23    Ideal     H     SI1   61.0   56.0  6.96  6.92  4.23\n",
       "2    0.33    Ideal     I      IF   61.8   55.0  4.46  4.47  2.76\n",
       "3    0.51  Premium     D     VS2   58.0   60.0  5.29  5.26  3.06\n",
       "4    0.40  Premium     E     VS2   62.2   59.0  4.71  4.74  2.94"
      ]
     },
     "execution_count": 25,
     "metadata": {},
     "output_type": "execute_result"
    }
   ],
   "source": [
    "predict.head()"
   ]
  },
  {
   "cell_type": "code",
   "execution_count": 26,
   "metadata": {},
   "outputs": [],
   "source": [
    "# As the \"cut\" column values are a range from Fair (worst) to Ideal (best), we convert them into Integers-numerical \n",
    "# values (1 to 5)\n",
    "cut_dic = {'Fair':1, 'Good':2, 'Very Good':3, 'Premium':4,'Ideal':5}\n",
    "\n",
    "predict.cut = predict.cut.map(cut_dic) \n",
    "\n",
    "# As the \"color\" column values are also a range from J (worst) to D(best), we convert them into Integers-numerical \n",
    "# values (1 to 7)\n",
    "\n",
    "color_dic = {'J':1, 'I':2, 'H':3, 'G':4,'F':5, 'E':6, 'D':7}\n",
    "\n",
    "predict.color = predict.color.map(color_dic) \n",
    "\n",
    "# As the \"clarity\" column values are also a range from I1 (worst) to IF(best), we convert them into Integers-\n",
    "# numerical values (1 to 7)\n",
    "\n",
    "clarity_dic = {'I1':1, 'SI2':2, 'SI1':3, 'VS2':4,'VS1':5, 'VVS2':6, 'VVS1':7, 'IF':8}\n",
    "\n",
    "predict.clarity = predict.clarity.map(clarity_dic) "
   ]
  },
  {
   "cell_type": "code",
   "execution_count": 27,
   "metadata": {},
   "outputs": [],
   "source": [
    "predict.drop(columns=['y','z'], inplace=True)\n"
   ]
  },
  {
   "cell_type": "code",
   "execution_count": 28,
   "metadata": {},
   "outputs": [
    {
     "name": "stdout",
     "output_type": "stream",
     "text": [
      "<class 'pandas.core.frame.DataFrame'>\n",
      "Int64Index: 13485 entries, 0 to 13484\n",
      "Data columns (total 7 columns):\n",
      " #   Column   Non-Null Count  Dtype  \n",
      "---  ------   --------------  -----  \n",
      " 0   carat    13485 non-null  float64\n",
      " 1   cut      13485 non-null  int64  \n",
      " 2   color    13485 non-null  int64  \n",
      " 3   clarity  13485 non-null  int64  \n",
      " 4   depth    13485 non-null  float64\n",
      " 5   table    13485 non-null  float64\n",
      " 6   x        13485 non-null  float64\n",
      "dtypes: float64(4), int64(3)\n",
      "memory usage: 842.8 KB\n"
     ]
    }
   ],
   "source": [
    "predict.info()"
   ]
  },
  {
   "cell_type": "code",
   "execution_count": 29,
   "metadata": {},
   "outputs": [],
   "source": [
    "predict.to_csv('output/predict_clean.csv')"
   ]
  },
  {
   "cell_type": "code",
   "execution_count": null,
   "metadata": {},
   "outputs": [],
   "source": []
  }
 ],
 "metadata": {
  "kernelspec": {
   "display_name": "Python 3",
   "language": "python",
   "name": "python3.8"
  },
  "language_info": {
   "codemirror_mode": {
    "name": "ipython",
    "version": 3
   },
   "file_extension": ".py",
   "mimetype": "text/x-python",
   "name": "python",
   "nbconvert_exporter": "python",
   "pygments_lexer": "ipython3",
   "version": "3.8.6"
  }
 },
 "nbformat": 4,
 "nbformat_minor": 4
}
